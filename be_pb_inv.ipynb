{
 "cells": [
  {
   "cell_type": "markdown",
   "metadata": {},
   "source": [
    "# Inverse Problem in Imaging\n",
    "\n",
    "- **Authors:** Elodie Ferrand & Jules Gomel ; **Teacher:** Pierre Weiss, CNRS  \n",
    "\n",
    "- **Academic Year:** 2023-24 ISAE-Supaero ; **Course:** Image Acquisition and Processing\n",
    "\n",
    "**Last Version:** 13 March 2024 "
   ]
  },
  {
   "cell_type": "markdown",
   "metadata": {},
   "source": [
    "![inverse problem image](img/deepinv_schematic.png) \n",
    "**Inverse problem in imaging summary**. Source : [Deepinv website](https://deepinv.github.io/deepinv/)"
   ]
  },
  {
   "cell_type": "markdown",
   "metadata": {},
   "source": [
    "# 🎯 Outcomes of This Notebook\n",
    "\n",
    "After working through this notebook, you will be able to:\n",
    "\n",
    "1. 🧠 Utilize DeepInv to address inverse problems using pretrained models,\n",
    "2. 🌐 Tackle diverse imaging challenges by engaging with various problems within the realm of imaging, showcasing the application of inverse problem-solving techniques,\n",
    "3. 📊 Apply equations introduced in class to solve specific problems related to image acquisition and processing.\n",
    "\n"
   ]
  },
  {
   "cell_type": "markdown",
   "metadata": {},
   "source": [
    "## Imports & Sanity Check"
   ]
  },
  {
   "cell_type": "code",
   "execution_count": 2,
   "metadata": {},
   "outputs": [],
   "source": [
    "import deepinv as dinv\n",
    "import torch\n",
    "\n",
    "from deepinv.utils.plotting import plot\n",
    "\n",
    "from deepinv.utils import load_url_image\n",
    "from functions.load_image import local_image_to_tensor"
   ]
  },
  {
   "cell_type": "code",
   "execution_count": 3,
   "metadata": {},
   "outputs": [
    {
     "name": "stdout",
     "output_type": "stream",
     "text": [
      "2.0.1+cu117\n",
      "11.7\n",
      "True\n"
     ]
    }
   ],
   "source": [
    "# Pytorch GPU sanity check\n",
    "print(torch.__version__)\n",
    "print(torch.version.cuda)\n",
    "print(torch.cuda.is_available())"
   ]
  },
  {
   "cell_type": "markdown",
   "metadata": {},
   "source": [
    "---\n",
    "\n",
    "## Inpainting in Image Processing\n",
    "\n",
    "🎨 *Inpainting* is a technique used in image processing to **reconstruct missing or damaged parts** of an image. It is particularly useful for repairing damaged photographs or removing unwanted objects from an image. The goal of inpainting algorithms is to fill in the missing regions of an image in a *visually plausible* manner, such that the completed image appears *seamless and natural*.\n",
    "\n",
    "- ❓ One common approach to inpainting is to use information from the surrounding areas of the missing regions to infer and reconstruct the missing pixels. This can be achieved through various methods, including image-based techniques such as texture synthesis, as well as more sophisticated deep learning-based approaches.\n",
    "\n",
    "- 🧠 Deep learning-based inpainting methods, such as those implemented in DeepInv, leverage the power of **convolutional neural networks** (CNNs) to learn the mapping between the observed parts of the image and the missing regions. By training on large datasets of images with known missing regions, these models can learn to generate high-quality inpainted images that closely match the surrounding context.\n",
    "\n",
    "🚀 In this section, we will explore the concept of **inpainting using DeepInv**, a deep learning-based framework for image inpainting. We will learn how to use DeepInv to inpaint missing regions of images and explore its applications in various image restoration tasks.\n",
    "\n",
    "- 🔥 We will use PyTorch so we need to be sure our GPU will be (wisely!) used ☺"
   ]
  },
  {
   "cell_type": "code",
   "execution_count": 4,
   "metadata": {},
   "outputs": [
    {
     "name": "stdout",
     "output_type": "stream",
     "text": [
      "cuda:0\n"
     ]
    }
   ],
   "source": [
    "# Set the device to be used\n",
    "device = torch.device(\"cuda:0\")  if torch.cuda.is_available() else \"cpu\"\n",
    "print(device)\n",
    "\n",
    "# Let's set the seed for reproducibility\n",
    "seed = torch.manual_seed(0)"
   ]
  },
  {
   "cell_type": "markdown",
   "metadata": {},
   "source": [
    "🖼️ Let's choose and load an image ! What about a royalty-free platypus ?"
   ]
  },
  {
   "cell_type": "code",
   "execution_count": null,
   "metadata": {},
   "outputs": [],
   "source": []
  },
  {
   "cell_type": "markdown",
   "metadata": {},
   "source": [
    "🧑‍🔬 DeepInv uses a class called ```Physics``` to model problems : it instantiates a physics problem to generate the measurements for our inverse problem. Differents problems are grouped in ```deepinv.physics```, including ```Inpainting```. \n",
    "\n",
    "- We will instantiate an ```Inpainting``` class with a fixed mask and a ```GaussianNoise``` class to model the problem and the noise respectively."
   ]
  },
  {
   "cell_type": "code",
   "execution_count": 9,
   "metadata": {},
   "outputs": [],
   "source": [
    "# Noise level\n",
    "sigma = 0.1  \n",
    "\n",
    "# Create the physics model\n",
    "physics = dinv.physics.Inpainting(mask=0.5, tensor_size=x.shape[1:], device=device)\n",
    "physics.noise_model = dinv.physics.GaussianNoise(sigma=sigma)\n",
    "\n",
    "# Generate the measurements\n",
    "y = physics(x)"
   ]
  },
  {
   "cell_type": "markdown",
   "metadata": {},
   "source": [
    "Now we can instantiate our model to do the inverse problem. As mentionned in the the inpainting method using "
   ]
  },
  {
   "cell_type": "code",
   "execution_count": 10,
   "metadata": {},
   "outputs": [],
   "source": [
    "# Constants\n",
    "\n",
    "iterations = 100\n",
    "\n",
    "lr = 1e-2  # learning rate for the optimizer.\n",
    "channels = 64  # number of channels per layer in the decoder.\n",
    "in_size = [2, 2]  # size of the input to the decoder.\n",
    "\n",
    "# Create the backbone model\n",
    "backbone = dinv.models.ConvDecoder(\n",
    "    img_shape=x.shape[1:], in_size=in_size, channels=channels\n",
    ").to(device)\n",
    "\n",
    "# Create the deep image prior model\n",
    "f = dinv.models.DeepImagePrior(\n",
    "    backbone,\n",
    "    learning_rate=lr,\n",
    "    iterations=iterations,\n",
    "    verbose=True,\n",
    "    input_size=[channels] + in_size,\n",
    ").to(device)"
   ]
  },
  {
   "cell_type": "code",
   "execution_count": 11,
   "metadata": {},
   "outputs": [
    {
     "name": "stderr",
     "output_type": "stream",
     "text": [
      "100%|██████████| 100/100 [01:01<00:00,  1.63it/s]\n"
     ]
    },
    {
     "name": "stdout",
     "output_type": "stream",
     "text": [
      "Linear reconstruction PSNR: 8.62 dB\n",
      "DIP PSNR: 18.67 dB\n"
     ]
    },
    {
     "data": {
      "image/png": "[encoded data removed]",
      "text/plain": [
       "<Figure size 600x200 with 3 Axes>"
      ]
     },
     "metadata": {},
     "output_type": "display_data"
    }
   ],
   "source": [
    "dip = f(y, physics)\n",
    "\n",
    "# compute linear inverse\n",
    "x_lin = physics.A_adjoint(y)\n",
    "\n",
    "# compute PSNR\n",
    "print(f\"Linear reconstruction PSNR: {dinv.utils.metric.cal_psnr(x, x_lin):.2f} dB\")\n",
    "print(f\"DIP PSNR: {dinv.utils.metric.cal_psnr(x, dip):.2f} dB\")\n",
    "\n",
    "# plot results\n",
    "plot([x_lin, x, dip], titles=[\"measurement\", \"ground truth\", \"DIP\"])"
   ]
  }
 ],
 "metadata": {
  "kernelspec": {
   "display_name": "base",
   "language": "python",
   "name": "python3"
  },
  "language_info": {
   "codemirror_mode": {
    "name": "ipython",
    "version": 3
   },
   "file_extension": ".py",
   "mimetype": "text/x-python",
   "name": "python",
   "nbconvert_exporter": "python",
   "pygments_lexer": "ipython3",
   "version": "3.10.9"
  }
 },
 "nbformat": 4,
 "nbformat_minor": 2
}
