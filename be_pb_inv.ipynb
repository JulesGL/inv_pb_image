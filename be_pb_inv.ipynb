{
 "cells": [
  {
   "cell_type": "markdown",
   "metadata": {},
   "source": [
    "# Inverse problem in Imaging\n",
    "\n",
    "\n",
    "***Elodie Ferrand & Jules Gomel*** ; Teacher : ***Pierre Weiss, CNRS***\n",
    "\n",
    "**ISAE-Supaero** ; Academic Year 2023-24 : Image Acquisition and Processing"
   ]
  },
  {
   "cell_type": "markdown",
   "metadata": {},
   "source": [
    "## This notebook's outcomes\n",
    "\n",
    "The goals of this notebook are :\n",
    "\n",
    "* Using Deepinv to practice inverse problem with already trained models\n",
    "* Testing different \n",
    "* "
   ]
  }
 ],
 "metadata": {
  "kernelspec": {
   "display_name": "base",
   "language": "python",
   "name": "python3"
  },
  "language_info": {
   "codemirror_mode": {
    "name": "ipython",
    "version": 3
   },
   "file_extension": ".py",
   "mimetype": "text/x-python",
   "name": "python",
   "nbconvert_exporter": "python",
   "pygments_lexer": "ipython3",
   "version": "3.10.9"
  }
 },
 "nbformat": 4,
 "nbformat_minor": 2
}
